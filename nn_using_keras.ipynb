{
 "cells": [
  {
   "cell_type": "markdown",
   "metadata": {},
   "source": [
    "# ANN using Keras"
   ]
  },
  {
   "cell_type": "markdown",
   "metadata": {},
   "source": [
    "In this part we will be using Keras library to build the ANN model for chess problem."
   ]
  },
  {
   "cell_type": "code",
   "execution_count": 1,
   "metadata": {},
   "outputs": [],
   "source": [
    "import pandas as pd \n",
    "import numpy as np\n",
    "import matplotlib.pyplot as plt\n",
    "import seaborn as sns\n",
    "%matplotlib inline"
   ]
  },
  {
   "cell_type": "code",
   "execution_count": 2,
   "metadata": {},
   "outputs": [],
   "source": [
    "df = pd.read_csv('chesscom_games_no_draws.csv')"
   ]
  },
  {
   "cell_type": "code",
   "execution_count": 3,
   "metadata": {},
   "outputs": [
    {
     "data": {
      "text/html": [
       "<div>\n",
       "<style scoped>\n",
       "    .dataframe tbody tr th:only-of-type {\n",
       "        vertical-align: middle;\n",
       "    }\n",
       "\n",
       "    .dataframe tbody tr th {\n",
       "        vertical-align: top;\n",
       "    }\n",
       "\n",
       "    .dataframe thead th {\n",
       "        text-align: right;\n",
       "    }\n",
       "</style>\n",
       "<table border=\"1\" class=\"dataframe\">\n",
       "  <thead>\n",
       "    <tr style=\"text-align: right;\">\n",
       "      <th></th>\n",
       "      <th>Unnamed: 0</th>\n",
       "      <th>Event</th>\n",
       "      <th>Site</th>\n",
       "      <th>Date</th>\n",
       "      <th>Round</th>\n",
       "      <th>Time Control</th>\n",
       "      <th>Time</th>\n",
       "      <th>Color</th>\n",
       "      <th>Opening move</th>\n",
       "      <th>Opponent</th>\n",
       "      <th>Opponent location</th>\n",
       "      <th>Current Rank</th>\n",
       "      <th>Opponent Rank</th>\n",
       "      <th>Result</th>\n",
       "      <th>Reason</th>\n",
       "      <th>Hour</th>\n",
       "      <th>Previously played that day</th>\n",
       "    </tr>\n",
       "  </thead>\n",
       "  <tbody>\n",
       "    <tr>\n",
       "      <th>0</th>\n",
       "      <td>0</td>\n",
       "      <td>Live Chess</td>\n",
       "      <td>Chess.com</td>\n",
       "      <td>2018.08.15</td>\n",
       "      <td>-</td>\n",
       "      <td>180+2</td>\n",
       "      <td>22:34:39</td>\n",
       "      <td>White</td>\n",
       "      <td>e4</td>\n",
       "      <td>Lillyandmarcus</td>\n",
       "      <td>United States</td>\n",
       "      <td>614</td>\n",
       "      <td>736</td>\n",
       "      <td>Lost</td>\n",
       "      <td>Resignation</td>\n",
       "      <td>22</td>\n",
       "      <td>0</td>\n",
       "    </tr>\n",
       "    <tr>\n",
       "      <th>1</th>\n",
       "      <td>1</td>\n",
       "      <td>Live Chess</td>\n",
       "      <td>Chess.com</td>\n",
       "      <td>2018.09.18</td>\n",
       "      <td>-</td>\n",
       "      <td>180+2</td>\n",
       "      <td>15:34:13</td>\n",
       "      <td>White</td>\n",
       "      <td>d4</td>\n",
       "      <td>TheGod1092</td>\n",
       "      <td>United States</td>\n",
       "      <td>741</td>\n",
       "      <td>537</td>\n",
       "      <td>Won</td>\n",
       "      <td>Checkmate</td>\n",
       "      <td>15</td>\n",
       "      <td>0</td>\n",
       "    </tr>\n",
       "    <tr>\n",
       "      <th>2</th>\n",
       "      <td>2</td>\n",
       "      <td>Live Chess</td>\n",
       "      <td>Chess.com</td>\n",
       "      <td>2018.09.18</td>\n",
       "      <td>-</td>\n",
       "      <td>180+2</td>\n",
       "      <td>17:28:39</td>\n",
       "      <td>Black</td>\n",
       "      <td>e4</td>\n",
       "      <td>joseinstein</td>\n",
       "      <td>International</td>\n",
       "      <td>666</td>\n",
       "      <td>887</td>\n",
       "      <td>Lost</td>\n",
       "      <td>Resignation</td>\n",
       "      <td>17</td>\n",
       "      <td>1</td>\n",
       "    </tr>\n",
       "  </tbody>\n",
       "</table>\n",
       "</div>"
      ],
      "text/plain": [
       "   Unnamed: 0       Event       Site        Date Round Time Control      Time  \\\n",
       "0           0  Live Chess  Chess.com  2018.08.15     -        180+2  22:34:39   \n",
       "1           1  Live Chess  Chess.com  2018.09.18     -        180+2  15:34:13   \n",
       "2           2  Live Chess  Chess.com  2018.09.18     -        180+2  17:28:39   \n",
       "\n",
       "   Color Opening move        Opponent Opponent location  Current Rank  \\\n",
       "0  White           e4  Lillyandmarcus     United States           614   \n",
       "1  White           d4      TheGod1092     United States           741   \n",
       "2  Black           e4     joseinstein     International           666   \n",
       "\n",
       "   Opponent Rank Result       Reason  Hour  Previously played that day  \n",
       "0            736   Lost  Resignation    22                           0  \n",
       "1            537    Won    Checkmate    15                           0  \n",
       "2            887   Lost  Resignation    17                           1  "
      ]
     },
     "execution_count": 3,
     "metadata": {},
     "output_type": "execute_result"
    }
   ],
   "source": [
    "df.head(3)"
   ]
  },
  {
   "cell_type": "markdown",
   "metadata": {},
   "source": [
    "Creating the Rank difference column and dummy variables for Color and Cime Control columns; also replacing the string value to a numeric value in the Result column:"
   ]
  },
  {
   "cell_type": "code",
   "execution_count": 4,
   "metadata": {},
   "outputs": [],
   "source": [
    "df['Rank difference'] = df['Current Rank'] - df['Opponent Rank']\n",
    "df.drop(['Unnamed: 0', 'Event','Site','Date','Round','Time',\n",
    "         'Opponent','Opponent location','Opening move','Reason', 'Current Rank'], \n",
    "        axis=1,inplace=True)\n",
    "df['Time Control'] = df['Time Control'].apply(lambda x: 0 if x == '300+5' else 1)\n",
    "df['Result'] = df['Result'].apply(lambda x: 0 if x == 'Won' else 1)\n",
    "df['Color'] = df['Color'].apply(lambda x: 0 if x == 'White' else 1)"
   ]
  },
  {
   "cell_type": "markdown",
   "metadata": {},
   "source": [
    "Removing white spaces from the column names and perfoming Feature scaling:"
   ]
  },
  {
   "cell_type": "code",
   "execution_count": 5,
   "metadata": {},
   "outputs": [
    {
     "data": {
      "text/plain": [
       "StandardScaler(copy=True, with_mean=True, with_std=True)"
      ]
     },
     "execution_count": 5,
     "metadata": {},
     "output_type": "execute_result"
    }
   ],
   "source": [
    "from sklearn.preprocessing import StandardScaler\n",
    "scaler = StandardScaler()\n",
    "scaler.fit(df.drop('Result',axis=1))"
   ]
  },
  {
   "cell_type": "code",
   "execution_count": 6,
   "metadata": {},
   "outputs": [],
   "source": [
    "df.columns = ['Time_Control','Color','Opponent_Rank','Result','Hour','Previously_played_that_day','Rank_difference']\n",
    "scaled_features = scaler.fit_transform(df.drop('Result',axis=1))"
   ]
  },
  {
   "cell_type": "code",
   "execution_count": 7,
   "metadata": {},
   "outputs": [
    {
     "data": {
      "text/html": [
       "<div>\n",
       "<style scoped>\n",
       "    .dataframe tbody tr th:only-of-type {\n",
       "        vertical-align: middle;\n",
       "    }\n",
       "\n",
       "    .dataframe tbody tr th {\n",
       "        vertical-align: top;\n",
       "    }\n",
       "\n",
       "    .dataframe thead th {\n",
       "        text-align: right;\n",
       "    }\n",
       "</style>\n",
       "<table border=\"1\" class=\"dataframe\">\n",
       "  <thead>\n",
       "    <tr style=\"text-align: right;\">\n",
       "      <th></th>\n",
       "      <th>Time_Control</th>\n",
       "      <th>Color</th>\n",
       "      <th>Opponent_Rank</th>\n",
       "      <th>Hour</th>\n",
       "      <th>Previously_played_that_day</th>\n",
       "      <th>Rank_difference</th>\n",
       "    </tr>\n",
       "  </thead>\n",
       "  <tbody>\n",
       "    <tr>\n",
       "      <th>0</th>\n",
       "      <td>2.336615</td>\n",
       "      <td>-0.985865</td>\n",
       "      <td>-0.303326</td>\n",
       "      <td>1.165555</td>\n",
       "      <td>-0.910811</td>\n",
       "      <td>-1.234530</td>\n",
       "    </tr>\n",
       "    <tr>\n",
       "      <th>1</th>\n",
       "      <td>2.336615</td>\n",
       "      <td>-0.985865</td>\n",
       "      <td>-1.937241</td>\n",
       "      <td>0.117248</td>\n",
       "      <td>-0.910811</td>\n",
       "      <td>2.532951</td>\n",
       "    </tr>\n",
       "    <tr>\n",
       "      <th>2</th>\n",
       "      <td>2.336615</td>\n",
       "      <td>1.014338</td>\n",
       "      <td>0.936479</td>\n",
       "      <td>0.416765</td>\n",
       "      <td>-0.825405</td>\n",
       "      <td>-2.378642</td>\n",
       "    </tr>\n",
       "    <tr>\n",
       "      <th>3</th>\n",
       "      <td>2.336615</td>\n",
       "      <td>1.014338</td>\n",
       "      <td>-0.336168</td>\n",
       "      <td>0.416765</td>\n",
       "      <td>-0.740000</td>\n",
       "      <td>-1.488777</td>\n",
       "    </tr>\n",
       "    <tr>\n",
       "      <th>4</th>\n",
       "      <td>2.336615</td>\n",
       "      <td>-0.985865</td>\n",
       "      <td>-1.206495</td>\n",
       "      <td>0.416765</td>\n",
       "      <td>-0.654595</td>\n",
       "      <td>-1.072736</td>\n",
       "    </tr>\n",
       "  </tbody>\n",
       "</table>\n",
       "</div>"
      ],
      "text/plain": [
       "   Time_Control     Color  Opponent_Rank      Hour  \\\n",
       "0      2.336615 -0.985865      -0.303326  1.165555   \n",
       "1      2.336615 -0.985865      -1.937241  0.117248   \n",
       "2      2.336615  1.014338       0.936479  0.416765   \n",
       "3      2.336615  1.014338      -0.336168  0.416765   \n",
       "4      2.336615 -0.985865      -1.206495  0.416765   \n",
       "\n",
       "   Previously_played_that_day  Rank_difference  \n",
       "0                   -0.910811        -1.234530  \n",
       "1                   -0.910811         2.532951  \n",
       "2                   -0.825405        -2.378642  \n",
       "3                   -0.740000        -1.488777  \n",
       "4                   -0.654595        -1.072736  "
      ]
     },
     "execution_count": 7,
     "metadata": {},
     "output_type": "execute_result"
    }
   ],
   "source": [
    "df_feat = pd.DataFrame(scaled_features,columns=df.columns[[0,1,2,4,5,6]])\n",
    "df_feat.head()"
   ]
  },
  {
   "cell_type": "markdown",
   "metadata": {},
   "source": [
    "Make sure there is no missing data:"
   ]
  },
  {
   "cell_type": "code",
   "execution_count": 8,
   "metadata": {},
   "outputs": [
    {
     "data": {
      "text/plain": [
       "<matplotlib.axes._subplots.AxesSubplot at 0x1192ac5f8>"
      ]
     },
     "execution_count": 8,
     "metadata": {},
     "output_type": "execute_result"
    },
    {
     "data": {
      "image/png": "[encoded data removed]",
      "text/plain": [
       "<Figure size 432x288 with 1 Axes>"
      ]
     },
     "metadata": {
      "needs_background": "light"
     },
     "output_type": "display_data"
    }
   ],
   "source": [
    "sns.heatmap(df.isnull(),yticklabels=False,cbar=False,cmap='viridis')"
   ]
  },
  {
   "cell_type": "markdown",
   "metadata": {},
   "source": [
    "Selecting our depentent and independent variables and splitting the dataset into test set and training set:"
   ]
  },
  {
   "cell_type": "code",
   "execution_count": 9,
   "metadata": {},
   "outputs": [],
   "source": [
    "X = df_feat\n",
    "y = df['Result']"
   ]
  },
  {
   "cell_type": "code",
   "execution_count": 10,
   "metadata": {},
   "outputs": [],
   "source": [
    "from sklearn.cross_validation import train_test_split\n",
    "X_train, X_test, y_train, y_test = train_test_split(X, y, test_size=0.3)"
   ]
  },
  {
   "cell_type": "markdown",
   "metadata": {},
   "source": [
    "Creating the ANN:"
   ]
  },
  {
   "cell_type": "code",
   "execution_count": 11,
   "metadata": {},
   "outputs": [
    {
     "name": "stderr",
     "output_type": "stream",
     "text": [
      "Using TensorFlow backend.\n",
      "/Users/puzanov/anaconda/lib/python3.5/importlib/_bootstrap.py:222: RuntimeWarning: compiletime version 3.6 of module 'tensorflow.python.framework.fast_tensor_util' does not match runtime version 3.5\n",
      "  return f(*args, **kwds)\n"
     ]
    }
   ],
   "source": [
    "# Importing the Keras libraries and packages\n",
    "import keras\n",
    "from keras.models import Sequential\n",
    "from keras.layers import Dense\n"
   ]
  },
  {
   "cell_type": "code",
   "execution_count": 12,
   "metadata": {},
   "outputs": [
    {
     "name": "stderr",
     "output_type": "stream",
     "text": [
      "/Users/puzanov/anaconda/lib/python3.5/site-packages/ipykernel/__main__.py:4: UserWarning: Update your `Dense` call to the Keras 2 API: `Dense(input_dim=6, kernel_initializer=\"uniform\", units=15, activation=\"relu\")`\n",
      "/Users/puzanov/anaconda/lib/python3.5/site-packages/ipykernel/__main__.py:6: UserWarning: Update your `Dense` call to the Keras 2 API: `Dense(units=6, kernel_initializer=\"uniform\", activation=\"sigmoid\")`\n",
      "/Users/puzanov/anaconda/lib/python3.5/site-packages/ipykernel/__main__.py:8: UserWarning: Update your `Dense` call to the Keras 2 API: `Dense(units=1, kernel_initializer=\"uniform\", activation=\"sigmoid\")`\n",
      "/Users/puzanov/anaconda/lib/python3.5/site-packages/ipykernel/__main__.py:12: UserWarning: The `nb_epoch` argument in `fit` has been renamed `epochs`.\n"
     ]
    },
    {
     "name": "stdout",
     "output_type": "stream",
     "text": [
      "Epoch 1/50\n",
      "786/786 [==============================] - 0s 629us/step - loss: 0.6932 - acc: 0.5000\n",
      "Epoch 2/50\n",
      "786/786 [==============================] - 0s 102us/step - loss: 0.6930 - acc: 0.5254\n",
      "Epoch 3/50\n",
      "786/786 [==============================] - 0s 131us/step - loss: 0.6920 - acc: 0.5827\n",
      "Epoch 4/50\n",
      "786/786 [==============================] - 0s 245us/step - loss: 0.6892 - acc: 0.6552\n",
      "Epoch 5/50\n",
      "786/786 [==============================] - 0s 206us/step - loss: 0.6826 - acc: 0.6654\n",
      "Epoch 6/50\n",
      "786/786 [==============================] - 0s 127us/step - loss: 0.6708 - acc: 0.6947\n",
      "Epoch 7/50\n",
      "786/786 [==============================] - 0s 90us/step - loss: 0.6570 - acc: 0.6845\n",
      "Epoch 8/50\n",
      "786/786 [==============================] - 0s 117us/step - loss: 0.6432 - acc: 0.6870\n",
      "Epoch 9/50\n",
      "786/786 [==============================] - 0s 108us/step - loss: 0.6328 - acc: 0.6908\n",
      "Epoch 10/50\n",
      "786/786 [==============================] - 0s 98us/step - loss: 0.6249 - acc: 0.6896\n",
      "Epoch 11/50\n",
      "786/786 [==============================] - 0s 95us/step - loss: 0.6189 - acc: 0.6934\n",
      "Epoch 12/50\n",
      "786/786 [==============================] - 0s 94us/step - loss: 0.6145 - acc: 0.6896\n",
      "Epoch 13/50\n",
      "786/786 [==============================] - 0s 92us/step - loss: 0.6109 - acc: 0.6883\n",
      "Epoch 14/50\n",
      "786/786 [==============================] - 0s 99us/step - loss: 0.6081 - acc: 0.6896\n",
      "Epoch 15/50\n",
      "786/786 [==============================] - 0s 105us/step - loss: 0.6056 - acc: 0.6908\n",
      "Epoch 16/50\n",
      "786/786 [==============================] - 0s 96us/step - loss: 0.6040 - acc: 0.6908\n",
      "Epoch 17/50\n",
      "786/786 [==============================] - 0s 116us/step - loss: 0.6023 - acc: 0.6896\n",
      "Epoch 18/50\n",
      "786/786 [==============================] - 0s 114us/step - loss: 0.6010 - acc: 0.6896\n",
      "Epoch 19/50\n",
      "786/786 [==============================] - 0s 132us/step - loss: 0.5995 - acc: 0.6883\n",
      "Epoch 20/50\n",
      "786/786 [==============================] - 0s 106us/step - loss: 0.5988 - acc: 0.6934\n",
      "Epoch 21/50\n",
      "786/786 [==============================] - 0s 100us/step - loss: 0.5972 - acc: 0.6908\n",
      "Epoch 22/50\n",
      "786/786 [==============================] - 0s 90us/step - loss: 0.5964 - acc: 0.6934\n",
      "Epoch 23/50\n",
      "786/786 [==============================] - 0s 107us/step - loss: 0.5957 - acc: 0.6934\n",
      "Epoch 24/50\n",
      "786/786 [==============================] - 0s 101us/step - loss: 0.5948 - acc: 0.6934\n",
      "Epoch 25/50\n",
      "786/786 [==============================] - 0s 98us/step - loss: 0.5943 - acc: 0.6934\n",
      "Epoch 26/50\n",
      "786/786 [==============================] - 0s 139us/step - loss: 0.5933 - acc: 0.6959\n",
      "Epoch 27/50\n",
      "786/786 [==============================] - 0s 153us/step - loss: 0.5928 - acc: 0.6934\n",
      "Epoch 28/50\n",
      "786/786 [==============================] - 0s 145us/step - loss: 0.5924 - acc: 0.6908\n",
      "Epoch 29/50\n",
      "786/786 [==============================] - 0s 121us/step - loss: 0.5917 - acc: 0.6947\n",
      "Epoch 30/50\n",
      "786/786 [==============================] - 0s 119us/step - loss: 0.5912 - acc: 0.6934\n",
      "Epoch 31/50\n",
      "786/786 [==============================] - 0s 99us/step - loss: 0.5910 - acc: 0.6959\n",
      "Epoch 32/50\n",
      "786/786 [==============================] - 0s 94us/step - loss: 0.5907 - acc: 0.6959\n",
      "Epoch 33/50\n",
      "786/786 [==============================] - 0s 97us/step - loss: 0.5898 - acc: 0.6921\n",
      "Epoch 34/50\n",
      "786/786 [==============================] - 0s 108us/step - loss: 0.5895 - acc: 0.6883\n",
      "Epoch 35/50\n",
      "786/786 [==============================] - 0s 85us/step - loss: 0.5892 - acc: 0.6985\n",
      "Epoch 36/50\n",
      "786/786 [==============================] - 0s 89us/step - loss: 0.5885 - acc: 0.6934\n",
      "Epoch 37/50\n",
      "786/786 [==============================] - 0s 101us/step - loss: 0.5880 - acc: 0.6959\n",
      "Epoch 38/50\n",
      "786/786 [==============================] - 0s 107us/step - loss: 0.5874 - acc: 0.6972\n",
      "Epoch 39/50\n",
      "786/786 [==============================] - 0s 94us/step - loss: 0.5872 - acc: 0.6947\n",
      "Epoch 40/50\n",
      "786/786 [==============================] - 0s 122us/step - loss: 0.5870 - acc: 0.6985\n",
      "Epoch 41/50\n",
      "786/786 [==============================] - 0s 98us/step - loss: 0.5862 - acc: 0.6972\n",
      "Epoch 42/50\n",
      "786/786 [==============================] - 0s 86us/step - loss: 0.5862 - acc: 0.6947\n",
      "Epoch 43/50\n",
      "786/786 [==============================] - 0s 95us/step - loss: 0.5858 - acc: 0.6947\n",
      "Epoch 44/50\n",
      "786/786 [==============================] - 0s 101us/step - loss: 0.5856 - acc: 0.6883\n",
      "Epoch 45/50\n",
      "786/786 [==============================] - 0s 100us/step - loss: 0.5852 - acc: 0.6947\n",
      "Epoch 46/50\n",
      "786/786 [==============================] - 0s 106us/step - loss: 0.5850 - acc: 0.6972\n",
      "Epoch 47/50\n",
      "786/786 [==============================] - 0s 106us/step - loss: 0.5846 - acc: 0.6959\n",
      "Epoch 48/50\n",
      "786/786 [==============================] - 0s 97us/step - loss: 0.5844 - acc: 0.6959\n",
      "Epoch 49/50\n",
      "786/786 [==============================] - 0s 90us/step - loss: 0.5840 - acc: 0.6997\n",
      "Epoch 50/50\n",
      "786/786 [==============================] - 0s 97us/step - loss: 0.5840 - acc: 0.6985\n"
     ]
    },
    {
     "data": {
      "text/plain": [
       "<keras.callbacks.History at 0x12f46b358>"
      ]
     },
     "execution_count": 12,
     "metadata": {},
     "output_type": "execute_result"
    }
   ],
   "source": [
    "# Initialising the ANN\n",
    "classifier = Sequential()\n",
    "# Adding the input layer and the first hidden layer\n",
    "classifier.add(Dense(output_dim = 15, init = 'uniform', activation = 'relu', input_dim = 6))\n",
    "# Adding the second hidden layer\n",
    "classifier.add(Dense(output_dim = 6, init = 'uniform', activation = 'sigmoid'))\n",
    "# Adding the output layer\n",
    "classifier.add(Dense(output_dim = 1, init = 'uniform', activation = 'sigmoid'))\n",
    "# Compiling the ANN\n",
    "classifier.compile(optimizer = 'adam', loss = 'binary_crossentropy', metrics = ['accuracy'])\n",
    "# Fitting the ANN to the Training set\n",
    "classifier.fit(X_train, y_train, batch_size = 20, nb_epoch = 50)"
   ]
  },
  {
   "cell_type": "markdown",
   "metadata": {},
   "source": [
    "Predicted values:"
   ]
  },
  {
   "cell_type": "code",
   "execution_count": 13,
   "metadata": {},
   "outputs": [],
   "source": [
    "y_pred = classifier.predict(X_test)\n",
    "y_pred = (y_pred > 0.5)"
   ]
  },
  {
   "cell_type": "markdown",
   "metadata": {},
   "source": [
    "Visualising the results:"
   ]
  },
  {
   "cell_type": "code",
   "execution_count": 14,
   "metadata": {},
   "outputs": [
    {
     "name": "stdout",
     "output_type": "stream",
     "text": [
      "[[112  52]\n",
      " [ 48 126]]\n"
     ]
    },
    {
     "data": {
      "text/plain": [
       "0.7041420118343196"
      ]
     },
     "execution_count": 14,
     "metadata": {},
     "output_type": "execute_result"
    }
   ],
   "source": [
    "from sklearn.metrics import confusion_matrix\n",
    "cm = confusion_matrix(y_test, y_pred)\n",
    "print(cm)\n",
    "(cm[0][0]+cm[1][1])/(len(y_test))"
   ]
  },
  {
   "cell_type": "markdown",
   "metadata": {},
   "source": [
    "# Thank you!"
   ]
  }
 ],
 "metadata": {
  "anaconda-cloud": {},
  "kernelspec": {
   "display_name": "Python [conda root]",
   "language": "python",
   "name": "conda-root-py"
  },
  "language_info": {
   "codemirror_mode": {
    "name": "ipython",
    "version": 3
   },
   "file_extension": ".py",
   "mimetype": "text/x-python",
   "name": "python",
   "nbconvert_exporter": "python",
   "pygments_lexer": "ipython3",
   "version": "3.5.2"
  }
 },
 "nbformat": 4,
 "nbformat_minor": 2
}
