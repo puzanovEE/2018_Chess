{
 "cells": [
  {
   "cell_type": "markdown",
   "metadata": {},
   "source": [
    "# Kernel SVM"
   ]
  },
  {
   "cell_type": "markdown",
   "metadata": {},
   "source": [
    "In this part we will use Kernel SVM classification algorithm on the same problem."
   ]
  },
  {
   "cell_type": "code",
   "execution_count": 1,
   "metadata": {},
   "outputs": [],
   "source": [
    "import pandas as pd\n",
    "import numpy as np\n",
    "import matplotlib.pyplot as plt\n",
    "import seaborn as sns\n",
    "%matplotlib inline"
   ]
  },
  {
   "cell_type": "code",
   "execution_count": 2,
   "metadata": {},
   "outputs": [],
   "source": [
    "df = pd.read_csv('chesscom_games_no_draws.csv')"
   ]
  },
  {
   "cell_type": "code",
   "execution_count": 3,
   "metadata": {},
   "outputs": [
    {
     "data": {
      "text/html": [
       "<div>\n",
       "<style scoped>\n",
       "    .dataframe tbody tr th:only-of-type {\n",
       "        vertical-align: middle;\n",
       "    }\n",
       "\n",
       "    .dataframe tbody tr th {\n",
       "        vertical-align: top;\n",
       "    }\n",
       "\n",
       "    .dataframe thead th {\n",
       "        text-align: right;\n",
       "    }\n",
       "</style>\n",
       "<table border=\"1\" class=\"dataframe\">\n",
       "  <thead>\n",
       "    <tr style=\"text-align: right;\">\n",
       "      <th></th>\n",
       "      <th>Unnamed: 0</th>\n",
       "      <th>Event</th>\n",
       "      <th>Site</th>\n",
       "      <th>Date</th>\n",
       "      <th>Round</th>\n",
       "      <th>Time Control</th>\n",
       "      <th>Time</th>\n",
       "      <th>Color</th>\n",
       "      <th>Opening move</th>\n",
       "      <th>Opponent</th>\n",
       "      <th>Opponent location</th>\n",
       "      <th>Current Rank</th>\n",
       "      <th>Opponent Rank</th>\n",
       "      <th>Result</th>\n",
       "      <th>Reason</th>\n",
       "      <th>Hour</th>\n",
       "      <th>Previously played that day</th>\n",
       "    </tr>\n",
       "  </thead>\n",
       "  <tbody>\n",
       "    <tr>\n",
       "      <th>0</th>\n",
       "      <td>0</td>\n",
       "      <td>Live Chess</td>\n",
       "      <td>Chess.com</td>\n",
       "      <td>2018.08.15</td>\n",
       "      <td>-</td>\n",
       "      <td>180+2</td>\n",
       "      <td>22:34:39</td>\n",
       "      <td>White</td>\n",
       "      <td>e4</td>\n",
       "      <td>Lillyandmarcus</td>\n",
       "      <td>United States</td>\n",
       "      <td>614</td>\n",
       "      <td>736</td>\n",
       "      <td>Lost</td>\n",
       "      <td>Resignation</td>\n",
       "      <td>22</td>\n",
       "      <td>0</td>\n",
       "    </tr>\n",
       "    <tr>\n",
       "      <th>1</th>\n",
       "      <td>1</td>\n",
       "      <td>Live Chess</td>\n",
       "      <td>Chess.com</td>\n",
       "      <td>2018.09.18</td>\n",
       "      <td>-</td>\n",
       "      <td>180+2</td>\n",
       "      <td>15:34:13</td>\n",
       "      <td>White</td>\n",
       "      <td>d4</td>\n",
       "      <td>TheGod1092</td>\n",
       "      <td>United States</td>\n",
       "      <td>741</td>\n",
       "      <td>537</td>\n",
       "      <td>Won</td>\n",
       "      <td>Checkmate</td>\n",
       "      <td>15</td>\n",
       "      <td>0</td>\n",
       "    </tr>\n",
       "    <tr>\n",
       "      <th>2</th>\n",
       "      <td>2</td>\n",
       "      <td>Live Chess</td>\n",
       "      <td>Chess.com</td>\n",
       "      <td>2018.09.18</td>\n",
       "      <td>-</td>\n",
       "      <td>180+2</td>\n",
       "      <td>17:28:39</td>\n",
       "      <td>Black</td>\n",
       "      <td>e4</td>\n",
       "      <td>joseinstein</td>\n",
       "      <td>International</td>\n",
       "      <td>666</td>\n",
       "      <td>887</td>\n",
       "      <td>Lost</td>\n",
       "      <td>Resignation</td>\n",
       "      <td>17</td>\n",
       "      <td>1</td>\n",
       "    </tr>\n",
       "  </tbody>\n",
       "</table>\n",
       "</div>"
      ],
      "text/plain": [
       "   Unnamed: 0       Event       Site        Date Round Time Control      Time  \\\n",
       "0           0  Live Chess  Chess.com  2018.08.15     -        180+2  22:34:39   \n",
       "1           1  Live Chess  Chess.com  2018.09.18     -        180+2  15:34:13   \n",
       "2           2  Live Chess  Chess.com  2018.09.18     -        180+2  17:28:39   \n",
       "\n",
       "   Color Opening move        Opponent Opponent location  Current Rank  \\\n",
       "0  White           e4  Lillyandmarcus     United States           614   \n",
       "1  White           d4      TheGod1092     United States           741   \n",
       "2  Black           e4     joseinstein     International           666   \n",
       "\n",
       "   Opponent Rank Result       Reason  Hour  Previously played that day  \n",
       "0            736   Lost  Resignation    22                           0  \n",
       "1            537    Won    Checkmate    15                           0  \n",
       "2            887   Lost  Resignation    17                           1  "
      ]
     },
     "execution_count": 3,
     "metadata": {},
     "output_type": "execute_result"
    }
   ],
   "source": [
    "df.head(3)"
   ]
  },
  {
   "cell_type": "markdown",
   "metadata": {},
   "source": [
    "Creating the \"Rank difference\" column and dummy variables for color and time control; drop everything else:"
   ]
  },
  {
   "cell_type": "code",
   "execution_count": 4,
   "metadata": {},
   "outputs": [],
   "source": [
    "df['Rank difference'] = df['Current Rank'] - df['Opponent Rank']\n",
    "df['Time Control'] = df['Time Control'].apply(lambda x: 0 if x == '300+5' else 1)\n",
    "color = pd.get_dummies(df['Color'],drop_first=True)\n",
    "df = pd.concat([df,color],axis=1)"
   ]
  },
  {
   "cell_type": "code",
   "execution_count": 5,
   "metadata": {},
   "outputs": [],
   "source": [
    "df.drop(['Unnamed: 0','Event','Site','Date','Current Rank','Round','Opponent Rank', 'Time','Color','Hour','Previously played that day','Opening move','Opponent','Opponent location','Reason'],axis=1,inplace=True)"
   ]
  },
  {
   "cell_type": "code",
   "execution_count": 6,
   "metadata": {},
   "outputs": [
    {
     "data": {
      "text/html": [
       "<div>\n",
       "<style scoped>\n",
       "    .dataframe tbody tr th:only-of-type {\n",
       "        vertical-align: middle;\n",
       "    }\n",
       "\n",
       "    .dataframe tbody tr th {\n",
       "        vertical-align: top;\n",
       "    }\n",
       "\n",
       "    .dataframe thead th {\n",
       "        text-align: right;\n",
       "    }\n",
       "</style>\n",
       "<table border=\"1\" class=\"dataframe\">\n",
       "  <thead>\n",
       "    <tr style=\"text-align: right;\">\n",
       "      <th></th>\n",
       "      <th>Time Control</th>\n",
       "      <th>Result</th>\n",
       "      <th>Rank difference</th>\n",
       "      <th>White</th>\n",
       "    </tr>\n",
       "  </thead>\n",
       "  <tbody>\n",
       "    <tr>\n",
       "      <th>0</th>\n",
       "      <td>1</td>\n",
       "      <td>Lost</td>\n",
       "      <td>-122</td>\n",
       "      <td>1</td>\n",
       "    </tr>\n",
       "    <tr>\n",
       "      <th>1</th>\n",
       "      <td>1</td>\n",
       "      <td>Won</td>\n",
       "      <td>204</td>\n",
       "      <td>1</td>\n",
       "    </tr>\n",
       "    <tr>\n",
       "      <th>2</th>\n",
       "      <td>1</td>\n",
       "      <td>Lost</td>\n",
       "      <td>-221</td>\n",
       "      <td>0</td>\n",
       "    </tr>\n",
       "  </tbody>\n",
       "</table>\n",
       "</div>"
      ],
      "text/plain": [
       "   Time Control Result  Rank difference  White\n",
       "0             1   Lost             -122      1\n",
       "1             1    Won              204      1\n",
       "2             1   Lost             -221      0"
      ]
     },
     "execution_count": 6,
     "metadata": {},
     "output_type": "execute_result"
    }
   ],
   "source": [
    "df.head(3)"
   ]
  },
  {
   "cell_type": "markdown",
   "metadata": {},
   "source": [
    "Make sure there is no missing data:"
   ]
  },
  {
   "cell_type": "code",
   "execution_count": 7,
   "metadata": {},
   "outputs": [
    {
     "data": {
      "text/plain": [
       "<matplotlib.axes._subplots.AxesSubplot at 0x119109e48>"
      ]
     },
     "execution_count": 7,
     "metadata": {},
     "output_type": "execute_result"
    },
    {
     "data": {
      "image/png": "[encoded data removed]",
      "text/plain": [
       "<Figure size 432x288 with 1 Axes>"
      ]
     },
     "metadata": {
      "needs_background": "light"
     },
     "output_type": "display_data"
    }
   ],
   "source": [
    "sns.heatmap(df.isnull(),yticklabels=False,cbar=False,cmap='viridis')"
   ]
  },
  {
   "cell_type": "markdown",
   "metadata": {},
   "source": [
    "Selecting our depentent and independent variables and breaking the dataset into test set and training set:"
   ]
  },
  {
   "cell_type": "code",
   "execution_count": 8,
   "metadata": {},
   "outputs": [],
   "source": [
    "X = df.drop('Result',axis=1)\n",
    "y = df['Result']"
   ]
  },
  {
   "cell_type": "code",
   "execution_count": 9,
   "metadata": {},
   "outputs": [],
   "source": [
    "from sklearn.cross_validation import train_test_split\n",
    "X_train, X_test, y_train, y_test = train_test_split(X, y, test_size=0.3)\n",
    "X_train = pd.DataFrame(X_train)\n",
    "# Feature Scaling\n",
    "from sklearn.preprocessing import StandardScaler\n",
    "sc = StandardScaler()\n",
    "X_train = sc.fit_transform(X_train)\n",
    "X_test = sc.transform(X_test)"
   ]
  },
  {
   "cell_type": "markdown",
   "metadata": {},
   "source": [
    "Fitting classifier to the Training set"
   ]
  },
  {
   "cell_type": "code",
   "execution_count": 10,
   "metadata": {},
   "outputs": [
    {
     "data": {
      "text/plain": [
       "SVC(C=1.0, cache_size=200, class_weight=None, coef0=0.0,\n",
       "  decision_function_shape=None, degree=3, gamma='auto', kernel='poly',\n",
       "  max_iter=-1, probability=False, random_state=0, shrinking=True,\n",
       "  tol=0.001, verbose=False)"
      ]
     },
     "execution_count": 10,
     "metadata": {},
     "output_type": "execute_result"
    }
   ],
   "source": [
    "from sklearn.svm import SVC\n",
    "classifier = SVC(kernel = 'poly', random_state = 0)\n",
    "classifier.fit(X_train, y_train)"
   ]
  },
  {
   "cell_type": "code",
   "execution_count": 11,
   "metadata": {},
   "outputs": [],
   "source": [
    "# Predicting the Test set results\n",
    "y_pred = classifier.predict(X_test)"
   ]
  },
  {
   "cell_type": "markdown",
   "metadata": {},
   "source": [
    "Visualising the results:"
   ]
  },
  {
   "cell_type": "code",
   "execution_count": 12,
   "metadata": {},
   "outputs": [
    {
     "name": "stdout",
     "output_type": "stream",
     "text": [
      "[[103  62]\n",
      " [ 51 122]]\n"
     ]
    },
    {
     "data": {
      "text/plain": [
       "0.665680473372781"
      ]
     },
     "execution_count": 12,
     "metadata": {},
     "output_type": "execute_result"
    }
   ],
   "source": [
    "from sklearn.metrics import confusion_matrix\n",
    "cm = confusion_matrix(y_test, y_pred, labels=[\"Won\", \"Lost\"])\n",
    "print(cm)\n",
    "(cm[0][0]+cm[1][1])/(len(y_test))"
   ]
  },
  {
   "cell_type": "markdown",
   "metadata": {},
   "source": [
    "# Thank you!"
   ]
  }
 ],
 "metadata": {
  "anaconda-cloud": {},
  "kernelspec": {
   "display_name": "Python [conda root]",
   "language": "python",
   "name": "conda-root-py"
  },
  "language_info": {
   "codemirror_mode": {
    "name": "ipython",
    "version": 3
   },
   "file_extension": ".py",
   "mimetype": "text/x-python",
   "name": "python",
   "nbconvert_exporter": "python",
   "pygments_lexer": "ipython3",
   "version": "3.5.2"
  }
 },
 "nbformat": 4,
 "nbformat_minor": 2
}
