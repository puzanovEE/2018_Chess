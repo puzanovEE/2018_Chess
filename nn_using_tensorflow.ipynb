{
 "cells": [
  {
   "cell_type": "markdown",
   "metadata": {},
   "source": [
    "# ANN using TensorFlow"
   ]
  },
  {
   "cell_type": "markdown",
   "metadata": {},
   "source": [
    "In this part we will be using TensorFlow library to build the ANN model for chess problem."
   ]
  },
  {
   "cell_type": "code",
   "execution_count": 1,
   "metadata": {},
   "outputs": [],
   "source": [
    "import pandas as pd \n",
    "import numpy as np\n",
    "import matplotlib.pyplot as plt\n",
    "import seaborn as sns\n",
    "%matplotlib inline"
   ]
  },
  {
   "cell_type": "code",
   "execution_count": 2,
   "metadata": {},
   "outputs": [],
   "source": [
    "df = pd.read_csv('chesscom_games_no_draws.csv')"
   ]
  },
  {
   "cell_type": "code",
   "execution_count": 3,
   "metadata": {},
   "outputs": [
    {
     "data": {
      "text/html": [
       "<div>\n",
       "<style scoped>\n",
       "    .dataframe tbody tr th:only-of-type {\n",
       "        vertical-align: middle;\n",
       "    }\n",
       "\n",
       "    .dataframe tbody tr th {\n",
       "        vertical-align: top;\n",
       "    }\n",
       "\n",
       "    .dataframe thead th {\n",
       "        text-align: right;\n",
       "    }\n",
       "</style>\n",
       "<table border=\"1\" class=\"dataframe\">\n",
       "  <thead>\n",
       "    <tr style=\"text-align: right;\">\n",
       "      <th></th>\n",
       "      <th>Unnamed: 0</th>\n",
       "      <th>Event</th>\n",
       "      <th>Site</th>\n",
       "      <th>Date</th>\n",
       "      <th>Round</th>\n",
       "      <th>Time Control</th>\n",
       "      <th>Time</th>\n",
       "      <th>Color</th>\n",
       "      <th>Opening move</th>\n",
       "      <th>Opponent</th>\n",
       "      <th>Opponent location</th>\n",
       "      <th>Current Rank</th>\n",
       "      <th>Opponent Rank</th>\n",
       "      <th>Result</th>\n",
       "      <th>Reason</th>\n",
       "      <th>Hour</th>\n",
       "      <th>Previously played that day</th>\n",
       "    </tr>\n",
       "  </thead>\n",
       "  <tbody>\n",
       "    <tr>\n",
       "      <th>0</th>\n",
       "      <td>0</td>\n",
       "      <td>Live Chess</td>\n",
       "      <td>Chess.com</td>\n",
       "      <td>2018.08.15</td>\n",
       "      <td>-</td>\n",
       "      <td>180+2</td>\n",
       "      <td>22:34:39</td>\n",
       "      <td>White</td>\n",
       "      <td>e4</td>\n",
       "      <td>Lillyandmarcus</td>\n",
       "      <td>United States</td>\n",
       "      <td>614</td>\n",
       "      <td>736</td>\n",
       "      <td>Lost</td>\n",
       "      <td>Resignation</td>\n",
       "      <td>22</td>\n",
       "      <td>0</td>\n",
       "    </tr>\n",
       "    <tr>\n",
       "      <th>1</th>\n",
       "      <td>1</td>\n",
       "      <td>Live Chess</td>\n",
       "      <td>Chess.com</td>\n",
       "      <td>2018.09.18</td>\n",
       "      <td>-</td>\n",
       "      <td>180+2</td>\n",
       "      <td>15:34:13</td>\n",
       "      <td>White</td>\n",
       "      <td>d4</td>\n",
       "      <td>TheGod1092</td>\n",
       "      <td>United States</td>\n",
       "      <td>741</td>\n",
       "      <td>537</td>\n",
       "      <td>Won</td>\n",
       "      <td>Checkmate</td>\n",
       "      <td>15</td>\n",
       "      <td>0</td>\n",
       "    </tr>\n",
       "    <tr>\n",
       "      <th>2</th>\n",
       "      <td>2</td>\n",
       "      <td>Live Chess</td>\n",
       "      <td>Chess.com</td>\n",
       "      <td>2018.09.18</td>\n",
       "      <td>-</td>\n",
       "      <td>180+2</td>\n",
       "      <td>17:28:39</td>\n",
       "      <td>Black</td>\n",
       "      <td>e4</td>\n",
       "      <td>joseinstein</td>\n",
       "      <td>International</td>\n",
       "      <td>666</td>\n",
       "      <td>887</td>\n",
       "      <td>Lost</td>\n",
       "      <td>Resignation</td>\n",
       "      <td>17</td>\n",
       "      <td>1</td>\n",
       "    </tr>\n",
       "  </tbody>\n",
       "</table>\n",
       "</div>"
      ],
      "text/plain": [
       "   Unnamed: 0       Event       Site        Date Round Time Control      Time  \\\n",
       "0           0  Live Chess  Chess.com  2018.08.15     -        180+2  22:34:39   \n",
       "1           1  Live Chess  Chess.com  2018.09.18     -        180+2  15:34:13   \n",
       "2           2  Live Chess  Chess.com  2018.09.18     -        180+2  17:28:39   \n",
       "\n",
       "   Color Opening move        Opponent Opponent location  Current Rank  \\\n",
       "0  White           e4  Lillyandmarcus     United States           614   \n",
       "1  White           d4      TheGod1092     United States           741   \n",
       "2  Black           e4     joseinstein     International           666   \n",
       "\n",
       "   Opponent Rank Result       Reason  Hour  Previously played that day  \n",
       "0            736   Lost  Resignation    22                           0  \n",
       "1            537    Won    Checkmate    15                           0  \n",
       "2            887   Lost  Resignation    17                           1  "
      ]
     },
     "execution_count": 3,
     "metadata": {},
     "output_type": "execute_result"
    }
   ],
   "source": [
    "df.head(3)"
   ]
  },
  {
   "cell_type": "markdown",
   "metadata": {},
   "source": [
    "Creating the Rank difference column and dummy variables for Color and Cime Control columns; also replacing the string value to a numeric value in the Result column:"
   ]
  },
  {
   "cell_type": "code",
   "execution_count": 4,
   "metadata": {},
   "outputs": [],
   "source": [
    "df['Rank difference'] = df['Current Rank'] - df['Opponent Rank']\n",
    "df.drop(['Unnamed: 0', 'Event','Site','Date','Round','Time',\n",
    "         'Opponent','Opponent location','Opening move','Reason', 'Current Rank'], \n",
    "        axis=1,inplace=True)\n",
    "df['Time Control'] = df['Time Control'].apply(lambda x: 0 if x == '300+5' else 1)\n",
    "df['Result'] = df['Result'].apply(lambda x: 0 if x == 'Won' else 1)\n",
    "df['Color'] = df['Color'].apply(lambda x: 0 if x == 'White' else 1)"
   ]
  },
  {
   "cell_type": "markdown",
   "metadata": {},
   "source": [
    "Removing white spaces from the column names and perfoming Feature scaling:"
   ]
  },
  {
   "cell_type": "code",
   "execution_count": 5,
   "metadata": {},
   "outputs": [],
   "source": [
    "from sklearn.preprocessing import StandardScaler\n",
    "scaler = StandardScaler()\n",
    "scaler.fit(df.drop('Result',axis=1))\n",
    "df.columns = ['Time_Control','Color','Opponent_Rank','Result','Hour','Previously_played_that_day','Rank_difference']\n",
    "scaled_features = scaler.fit_transform(df.drop('Result',axis=1))\n",
    "df_feat = pd.DataFrame(scaled_features,columns=df.columns[[0,1,2,4,5,6]])"
   ]
  },
  {
   "cell_type": "code",
   "execution_count": 6,
   "metadata": {},
   "outputs": [
    {
     "data": {
      "text/html": [
       "<div>\n",
       "<style scoped>\n",
       "    .dataframe tbody tr th:only-of-type {\n",
       "        vertical-align: middle;\n",
       "    }\n",
       "\n",
       "    .dataframe tbody tr th {\n",
       "        vertical-align: top;\n",
       "    }\n",
       "\n",
       "    .dataframe thead th {\n",
       "        text-align: right;\n",
       "    }\n",
       "</style>\n",
       "<table border=\"1\" class=\"dataframe\">\n",
       "  <thead>\n",
       "    <tr style=\"text-align: right;\">\n",
       "      <th></th>\n",
       "      <th>Time_Control</th>\n",
       "      <th>Color</th>\n",
       "      <th>Opponent_Rank</th>\n",
       "      <th>Hour</th>\n",
       "      <th>Previously_played_that_day</th>\n",
       "      <th>Rank_difference</th>\n",
       "    </tr>\n",
       "  </thead>\n",
       "  <tbody>\n",
       "    <tr>\n",
       "      <th>0</th>\n",
       "      <td>2.336615</td>\n",
       "      <td>-0.985865</td>\n",
       "      <td>-0.303326</td>\n",
       "      <td>1.165555</td>\n",
       "      <td>-0.910811</td>\n",
       "      <td>-1.234530</td>\n",
       "    </tr>\n",
       "    <tr>\n",
       "      <th>1</th>\n",
       "      <td>2.336615</td>\n",
       "      <td>-0.985865</td>\n",
       "      <td>-1.937241</td>\n",
       "      <td>0.117248</td>\n",
       "      <td>-0.910811</td>\n",
       "      <td>2.532951</td>\n",
       "    </tr>\n",
       "    <tr>\n",
       "      <th>2</th>\n",
       "      <td>2.336615</td>\n",
       "      <td>1.014338</td>\n",
       "      <td>0.936479</td>\n",
       "      <td>0.416765</td>\n",
       "      <td>-0.825405</td>\n",
       "      <td>-2.378642</td>\n",
       "    </tr>\n",
       "    <tr>\n",
       "      <th>3</th>\n",
       "      <td>2.336615</td>\n",
       "      <td>1.014338</td>\n",
       "      <td>-0.336168</td>\n",
       "      <td>0.416765</td>\n",
       "      <td>-0.740000</td>\n",
       "      <td>-1.488777</td>\n",
       "    </tr>\n",
       "    <tr>\n",
       "      <th>4</th>\n",
       "      <td>2.336615</td>\n",
       "      <td>-0.985865</td>\n",
       "      <td>-1.206495</td>\n",
       "      <td>0.416765</td>\n",
       "      <td>-0.654595</td>\n",
       "      <td>-1.072736</td>\n",
       "    </tr>\n",
       "  </tbody>\n",
       "</table>\n",
       "</div>"
      ],
      "text/plain": [
       "   Time_Control     Color  Opponent_Rank      Hour  \\\n",
       "0      2.336615 -0.985865      -0.303326  1.165555   \n",
       "1      2.336615 -0.985865      -1.937241  0.117248   \n",
       "2      2.336615  1.014338       0.936479  0.416765   \n",
       "3      2.336615  1.014338      -0.336168  0.416765   \n",
       "4      2.336615 -0.985865      -1.206495  0.416765   \n",
       "\n",
       "   Previously_played_that_day  Rank_difference  \n",
       "0                   -0.910811        -1.234530  \n",
       "1                   -0.910811         2.532951  \n",
       "2                   -0.825405        -2.378642  \n",
       "3                   -0.740000        -1.488777  \n",
       "4                   -0.654595        -1.072736  "
      ]
     },
     "execution_count": 6,
     "metadata": {},
     "output_type": "execute_result"
    }
   ],
   "source": [
    "df_feat.head(5)"
   ]
  },
  {
   "cell_type": "markdown",
   "metadata": {},
   "source": [
    "Make sure there is no missing data:"
   ]
  },
  {
   "cell_type": "code",
   "execution_count": 7,
   "metadata": {},
   "outputs": [
    {
     "data": {
      "text/plain": [
       "<matplotlib.axes._subplots.AxesSubplot at 0x118fffd30>"
      ]
     },
     "execution_count": 7,
     "metadata": {},
     "output_type": "execute_result"
    },
    {
     "data": {
      "image/png": "[encoded data removed]",
      "text/plain": [
       "<Figure size 432x288 with 1 Axes>"
      ]
     },
     "metadata": {
      "needs_background": "light"
     },
     "output_type": "display_data"
    }
   ],
   "source": [
    "sns.heatmap(df.isnull(),yticklabels=False,cbar=False,cmap='viridis')"
   ]
  },
  {
   "cell_type": "markdown",
   "metadata": {},
   "source": [
    "Selecting our depentent and independent variables and splitting the dataset into test set and training set:"
   ]
  },
  {
   "cell_type": "code",
   "execution_count": 8,
   "metadata": {},
   "outputs": [],
   "source": [
    "X = df_feat\n",
    "y = df['Result']"
   ]
  },
  {
   "cell_type": "code",
   "execution_count": 9,
   "metadata": {},
   "outputs": [],
   "source": [
    "from sklearn.cross_validation import train_test_split\n",
    "X_train, X_test, y_train, y_test = train_test_split(X, y, test_size=0.3,random_state=0)"
   ]
  },
  {
   "cell_type": "code",
   "execution_count": null,
   "metadata": {},
   "outputs": [],
   "source": []
  },
  {
   "cell_type": "markdown",
   "metadata": {},
   "source": [
    "Creating the ANN:"
   ]
  },
  {
   "cell_type": "code",
   "execution_count": 10,
   "metadata": {},
   "outputs": [
    {
     "name": "stderr",
     "output_type": "stream",
     "text": [
      "/Users/puzanov/anaconda/lib/python3.5/importlib/_bootstrap.py:222: RuntimeWarning: compiletime version 3.6 of module 'tensorflow.python.framework.fast_tensor_util' does not match runtime version 3.5\n",
      "  return f(*args, **kwds)\n"
     ]
    }
   ],
   "source": [
    "import tensorflow as tf"
   ]
  },
  {
   "cell_type": "markdown",
   "metadata": {},
   "source": [
    "Feature columns:"
   ]
  },
  {
   "cell_type": "code",
   "execution_count": 11,
   "metadata": {},
   "outputs": [
    {
     "data": {
      "text/plain": [
       "Index(['Time_Control', 'Color', 'Opponent_Rank', 'Hour',\n",
       "       'Previously_played_that_day', 'Rank_difference'],\n",
       "      dtype='object')"
      ]
     },
     "execution_count": 11,
     "metadata": {},
     "output_type": "execute_result"
    }
   ],
   "source": [
    "df_feat.columns"
   ]
  },
  {
   "cell_type": "code",
   "execution_count": 12,
   "metadata": {},
   "outputs": [],
   "source": [
    "time_control = tf.feature_column.numeric_column('Time_Control')\n",
    "color = tf.feature_column.numeric_column('Color')\n",
    "opponent_rank = tf.feature_column.numeric_column('Opponent_Rank')\n",
    "hour = tf.feature_column.numeric_column('Hour')\n",
    "prev_played = tf.feature_column.numeric_column('Previously_played_that_day')\n",
    "rank_difference = tf.feature_column.numeric_column('Rank_difference')"
   ]
  },
  {
   "cell_type": "code",
   "execution_count": 13,
   "metadata": {},
   "outputs": [],
   "source": [
    "feat_cols = [time_control,color,opponent_rank,hour,prev_played,rank_difference]"
   ]
  },
  {
   "cell_type": "code",
   "execution_count": null,
   "metadata": {},
   "outputs": [],
   "source": []
  },
  {
   "cell_type": "code",
   "execution_count": 14,
   "metadata": {},
   "outputs": [
    {
     "name": "stdout",
     "output_type": "stream",
     "text": [
      "INFO:tensorflow:Using default config.\n",
      "WARNING:tensorflow:Using temporary folder as model directory: /var/folders/fw/1t8yw6_92z7_zg5vwp8c1r0w0000gn/T/tmpymzcnby8\n",
      "INFO:tensorflow:Using config: {'_device_fn': None, '_evaluation_master': '', '_keep_checkpoint_every_n_hours': 10000, '_num_worker_replicas': 1, '_global_id_in_cluster': 0, '_session_config': None, '_task_type': 'worker', '_tf_random_seed': None, '_save_summary_steps': 100, '_num_ps_replicas': 0, '_save_checkpoints_steps': None, '_save_checkpoints_secs': 600, '_keep_checkpoint_max': 5, '_master': '', '_log_step_count_steps': 100, '_is_chief': True, '_task_id': 0, '_cluster_spec': <tensorflow.python.training.server_lib.ClusterSpec object at 0x10536e4a8>, '_model_dir': '/var/folders/fw/1t8yw6_92z7_zg5vwp8c1r0w0000gn/T/tmpymzcnby8', '_service': None, '_train_distribute': None}\n"
     ]
    }
   ],
   "source": [
    "input_func = tf.estimator.inputs.pandas_input_fn(x=X_train,y=y_train,batch_size=20,shuffle=True)\n",
    "classifier = tf.estimator.DNNClassifier(hidden_units=[10], n_classes=2,feature_columns=feat_cols)"
   ]
  },
  {
   "cell_type": "markdown",
   "metadata": {},
   "source": [
    "Training the NN:"
   ]
  },
  {
   "cell_type": "code",
   "execution_count": 15,
   "metadata": {},
   "outputs": [
    {
     "name": "stdout",
     "output_type": "stream",
     "text": [
      "INFO:tensorflow:Calling model_fn.\n",
      "INFO:tensorflow:Done calling model_fn.\n",
      "INFO:tensorflow:Create CheckpointSaverHook.\n",
      "INFO:tensorflow:Graph was finalized.\n",
      "INFO:tensorflow:Running local_init_op.\n",
      "INFO:tensorflow:Done running local_init_op.\n",
      "INFO:tensorflow:Saving checkpoints for 0 into /var/folders/fw/1t8yw6_92z7_zg5vwp8c1r0w0000gn/T/tmpymzcnby8/model.ckpt.\n",
      "INFO:tensorflow:loss = 13.037428, step = 1\n",
      "INFO:tensorflow:Saving checkpoints for 40 into /var/folders/fw/1t8yw6_92z7_zg5vwp8c1r0w0000gn/T/tmpymzcnby8/model.ckpt.\n",
      "INFO:tensorflow:Loss for final step: 3.6302109.\n"
     ]
    },
    {
     "data": {
      "text/plain": [
       "<tensorflow.python.estimator.canned.dnn.DNNClassifier at 0x12f122a58>"
      ]
     },
     "execution_count": 15,
     "metadata": {},
     "output_type": "execute_result"
    }
   ],
   "source": [
    "classifier.train(input_fn=input_func,steps=500)"
   ]
  },
  {
   "cell_type": "markdown",
   "metadata": {},
   "source": [
    "Model evaluation:"
   ]
  },
  {
   "cell_type": "code",
   "execution_count": 16,
   "metadata": {},
   "outputs": [
    {
     "name": "stdout",
     "output_type": "stream",
     "text": [
      "INFO:tensorflow:Calling model_fn.\n",
      "INFO:tensorflow:Done calling model_fn.\n",
      "INFO:tensorflow:Graph was finalized.\n",
      "INFO:tensorflow:Restoring parameters from /var/folders/fw/1t8yw6_92z7_zg5vwp8c1r0w0000gn/T/tmpymzcnby8/model.ckpt-40\n",
      "INFO:tensorflow:Running local_init_op.\n",
      "INFO:tensorflow:Done running local_init_op.\n"
     ]
    }
   ],
   "source": [
    "pred_fn = tf.estimator.inputs.pandas_input_fn(x=X_test,batch_size=len(X_test),shuffle=False)\n",
    "note_predictions = list(classifier.predict(input_fn=pred_fn))\n",
    "#note_predictions[0]\n",
    "final_pred  = []\n",
    "for pred in note_predictions:\n",
    "    final_pred.append(pred['class_ids'][0])"
   ]
  },
  {
   "cell_type": "markdown",
   "metadata": {},
   "source": [
    "Visualizing the results:"
   ]
  },
  {
   "cell_type": "code",
   "execution_count": 17,
   "metadata": {},
   "outputs": [],
   "source": [
    "from sklearn.metrics import classification_report,confusion_matrix"
   ]
  },
  {
   "cell_type": "code",
   "execution_count": 18,
   "metadata": {},
   "outputs": [
    {
     "name": "stdout",
     "output_type": "stream",
     "text": [
      "[[130  53]\n",
      " [ 54 101]]\n"
     ]
    },
    {
     "data": {
      "text/plain": [
       "0.6834319526627219"
      ]
     },
     "execution_count": 18,
     "metadata": {},
     "output_type": "execute_result"
    }
   ],
   "source": [
    "from sklearn.metrics import confusion_matrix\n",
    "cm = confusion_matrix(y_test, final_pred)\n",
    "print(cm)\n",
    "(cm[0][0]+cm[1][1])/(len(y_test))"
   ]
  },
  {
   "cell_type": "markdown",
   "metadata": {},
   "source": [
    "# Thank you!"
   ]
  }
 ],
 "metadata": {
  "anaconda-cloud": {},
  "kernelspec": {
   "display_name": "Python [conda root]",
   "language": "python",
   "name": "conda-root-py"
  },
  "language_info": {
   "codemirror_mode": {
    "name": "ipython",
    "version": 3
   },
   "file_extension": ".py",
   "mimetype": "text/x-python",
   "name": "python",
   "nbconvert_exporter": "python",
   "pygments_lexer": "ipython3",
   "version": "3.5.2"
  }
 },
 "nbformat": 4,
 "nbformat_minor": 2
}
